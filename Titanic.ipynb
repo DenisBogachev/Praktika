{
 "cells": [
  {
   "cell_type": "code",
   "execution_count": null,
   "id": "7603927e-4fd8-470c-ba7a-566fe0ce3f81",
   "metadata": {},
   "outputs": [
    {
     "name": "stdout",
     "output_type": "stream",
     "text": [
      "Requirement already satisfied: kaggle in c:\\users\\user\\anaconda3\\lib\\site-packages (1.5.12)\n",
      "Requirement already satisfied: requests in c:\\users\\user\\anaconda3\\lib\\site-packages (from kaggle) (2.27.1)\n",
      "Requirement already satisfied: certifi in c:\\users\\user\\anaconda3\\lib\\site-packages (from kaggle) (2021.10.8)\n",
      "Requirement already satisfied: tqdm in c:\\users\\user\\anaconda3\\lib\\site-packages (from kaggle) (4.64.0)\n",
      "Requirement already satisfied: urllib3 in c:\\users\\user\\anaconda3\\lib\\site-packages (from kaggle) (1.26.9)\n",
      "Requirement already satisfied: python-dateutil in c:\\users\\user\\anaconda3\\lib\\site-packages (from kaggle) (2.8.2)\n",
      "Requirement already satisfied: python-slugify in c:\\users\\user\\anaconda3\\lib\\site-packages (from kaggle) (5.0.2)\n",
      "Requirement already satisfied: six>=1.10 in c:\\users\\user\\anaconda3\\lib\\site-packages (from kaggle) (1.16.0)\n",
      "Requirement already satisfied: text-unidecode>=1.3 in c:\\users\\user\\anaconda3\\lib\\site-packages (from python-slugify->kaggle) (1.3)\n",
      "Requirement already satisfied: charset-normalizer~=2.0.0 in c:\\users\\user\\anaconda3\\lib\\site-packages (from requests->kaggle) (2.0.4)\n",
      "Requirement already satisfied: idna<4,>=2.5 in c:\\users\\user\\anaconda3\\lib\\site-packages (from requests->kaggle) (3.3)\n",
      "Requirement already satisfied: colorama in c:\\users\\user\\anaconda3\\lib\\site-packages (from tqdm->kaggle) (0.4.4)\n"
     ]
    }
   ],
   "source": [
    "!pip install kaggle"
   ]
  },
  {
   "cell_type": "code",
   "execution_count": null,
   "id": "b0200a8f-54e5-47ef-9c09-82f42a4ec540",
   "metadata": {},
   "outputs": [],
   "source": [
    "import kaggle"
   ]
  },
  {
   "cell_type": "code",
   "execution_count": null,
   "id": "a94a4434-f131-49f6-89b5-d3d9615f021f",
   "metadata": {},
   "outputs": [],
   "source": [
    "from kaggle.api.kaggle_api_extended import KaggleApi"
   ]
  },
  {
   "cell_type": "code",
   "execution_count": 46,
   "id": "bef9f4fa-f17c-464c-9127-aa66e425cc01",
   "metadata": {},
   "outputs": [],
   "source": [
    "api = KaggleApi()\n",
    "api.authenticate()"
   ]
  },
  {
   "cell_type": "code",
   "execution_count": 53,
   "id": "8ad307a7-cc8c-4f64-a69b-95513ab44f1b",
   "metadata": {},
   "outputs": [
    {
     "name": "stdout",
     "output_type": "stream",
     "text": [
      "Downloading train.csv to C:\\Users\\user\n",
      "\n"
     ]
    },
    {
     "name": "stderr",
     "output_type": "stream",
     "text": [
      "\n",
      "  0%|          | 0.00/59.8k [00:00<?, ?B/s]\n",
      "100%|##########| 59.8k/59.8k [00:00<00:00, 1.76MB/s]\n"
     ]
    },
    {
     "name": "stdout",
     "output_type": "stream",
     "text": [
      "Downloading test.csv to C:\\Users\\user\n",
      "\n"
     ]
    },
    {
     "name": "stderr",
     "output_type": "stream",
     "text": [
      "\n",
      "  0%|          | 0.00/28.0k [00:00<?, ?B/s]\n",
      "100%|##########| 28.0k/28.0k [00:00<00:00, 1.34MB/s]\n"
     ]
    }
   ],
   "source": [
    "!kaggle competitions download titanic -f train.csv --force\n",
    "!kaggle competitions download titanic -f test.csv --force"
   ]
  },
  {
   "cell_type": "code",
   "execution_count": 36,
   "id": "b20e1c1f-c374-4c85-a81a-7d1b5d1585e0",
   "metadata": {},
   "outputs": [],
   "source": [
    "import pandas as pd"
   ]
  },
  {
   "cell_type": "code",
   "execution_count": 28,
   "id": "43725072-f8f6-4659-a821-bbc1eccf7e9b",
   "metadata": {},
   "outputs": [],
   "source": [
    "data = pd.read_csv('train.csv')\n",
    "test = pd.read_csv('test.csv')\n",
    "test_id = test[\"PassengerId\"]"
   ]
  },
  {
   "cell_type": "code",
   "execution_count": 15,
   "id": "72cad6f7-59a5-480f-881d-678208dadf22",
   "metadata": {},
   "outputs": [],
   "source": [
    "def clean(data):\n",
    "    data=data.drop([\"Ticket\",\"Cabin\",\"Name\",\"PassengerId\"], axis=1)\n",
    "    cols = [\"SibSp\", \"Parch\", \"Fare\", \"Age\"]\n",
    "    for col in cols:\n",
    "        data[col].fillna(data[col].median(), inplace = True)\n",
    "    data.Embarked.fillna(\"F\", inplace=True)\n",
    "    return data"
   ]
  },
  {
   "cell_type": "code",
   "execution_count": 16,
   "id": "bddda921-fae8-4700-a148-d7b2bda6e742",
   "metadata": {},
   "outputs": [],
   "source": [
    "data=clean(data)\n",
    "test=clean(test)"
   ]
  },
  {
   "cell_type": "code",
   "execution_count": 17,
   "id": "dc515776-3077-407b-99e0-0320352da653",
   "metadata": {},
   "outputs": [],
   "source": [
    "from sklearn import preprocessing\n",
    "le = preprocessing.LabelEncoder()\n",
    "cols = [\"Sex\",\"Embarked\"]\n",
    "for col in cols:\n",
    "    data[col] = le.fit_transform(data[col])\n",
    "    test[col] = le.fit_transform(test[col])"
   ]
  },
  {
   "cell_type": "code",
   "execution_count": 18,
   "id": "f3454821-3aa1-4af9-9a6a-62a563c6b11b",
   "metadata": {},
   "outputs": [],
   "source": [
    "from sklearn.linear_model import LogisticRegression\n",
    "from sklearn.model_selection import train_test_split"
   ]
  },
  {
   "cell_type": "code",
   "execution_count": 19,
   "id": "fc30ea5d-8094-4fab-8c1c-a63f5499b3dd",
   "metadata": {},
   "outputs": [],
   "source": [
    "y=data[\"Survived\"]\n",
    "X=data.drop(\"Survived\", axis=1)"
   ]
  },
  {
   "cell_type": "code",
   "execution_count": 21,
   "id": "aaafa60a-51c9-4ce5-8b12-1118e1bc5fa5",
   "metadata": {},
   "outputs": [],
   "source": [
    "X_train, X_val, y_train, y_val = train_test_split(X,y,test_size=0.2,random_state=42)\n",
    "clf = LogisticRegression(random_state=0,max_iter=10000).fit(X_train,y_train)\n",
    "predictions = clf.predict(X_val)"
   ]
  },
  {
   "cell_type": "code",
   "execution_count": 54,
   "id": "5f7dc165-c190-40d4-ab46-a6f6d6180120",
   "metadata": {},
   "outputs": [],
   "source": [
    "submission_preds = clf.predict(test)\n",
    "submissions = pd.DataFrame({\"PassengerId\":test_id.values, \"Survived\": submission_preds,})\n",
    "submissions.to_csv(\"submission.csv\", index=False)"
   ]
  },
  {
   "cell_type": "code",
   "execution_count": 55,
   "id": "c282e123-80da-4615-9a68-0baa63038f86",
   "metadata": {},
   "outputs": [
    {
     "name": "stdout",
     "output_type": "stream",
     "text": [
      "Successfully submitted to Titanic - Machine Learning from Disaster\n"
     ]
    },
    {
     "name": "stderr",
     "output_type": "stream",
     "text": [
      "\n",
      "  0%|          | 0.00/3.18k [00:00<?, ?B/s]\n",
      "100%|##########| 3.18k/3.18k [00:00<00:00, 29.8kB/s]\n",
      "100%|##########| 3.18k/3.18k [00:01<00:00, 1.67kB/s]\n"
     ]
    }
   ],
   "source": [
    "!kaggle competitions submit titanic -f submission.csv -m \"submission script test\""
   ]
  },
  {
   "cell_type": "code",
   "execution_count": null,
   "id": "d94d4e66-7d17-46fd-b127-44701e2c1418",
   "metadata": {},
   "outputs": [],
   "source": []
  }
 ],
 "metadata": {
  "kernelspec": {
   "display_name": "Python 3 (ipykernel)",
   "language": "python",
   "name": "python3"
  },
  "language_info": {
   "codemirror_mode": {
    "name": "ipython",
    "version": 3
   },
   "file_extension": ".py",
   "mimetype": "text/x-python",
   "name": "python",
   "nbconvert_exporter": "python",
   "pygments_lexer": "ipython3",
   "version": "3.9.12"
  }
 },
 "nbformat": 4,
 "nbformat_minor": 5
}
